{
  "nbformat": 4,
  "nbformat_minor": 0,
  "metadata": {
    "colab": {
      "name": "Brake Torque Predictor Initial study",
      "provenance": [],
      "collapsed_sections": []
    },
    "kernelspec": {
      "display_name": "Python 3",
      "name": "python3"
    }
  },
  "cells": [
    {
      "cell_type": "markdown",
      "metadata": {
        "id": "view-in-github"
      },
      "source": [
        "<a href=\"https://colab.research.google.com/github/lmoroney/dlaicourse/blob/master/TensorFlow%20In%20Practice/Course%204%20-%20S%2BP/S%2BP%20Week%202%20Lesson%202.ipynb\" target=\"_parent\"><img src=\"https://colab.research.google.com/assets/colab-badge.svg\" alt=\"Open In Colab\"/></a>"
      ]
    },
    {
      "cell_type": "code",
      "metadata": {
        "id": "BOjujz601HcS",
        "outputId": "25482466-59ae-45c9-de2a-f0c43940c6c9",
        "colab": {
          "base_uri": "https://localhost:8080/",
          "height": 36
        }
      },
      "source": [
        "import tensorflow as tf\n",
        "import numpy as np\n",
        "import matplotlib.pyplot as plt\n",
        "print(tf.__version__)"
      ],
      "execution_count": null,
      "outputs": [
        {
          "output_type": "stream",
          "text": [
            "2.3.0\n"
          ],
          "name": "stdout"
        }
      ]
    },
    {
      "cell_type": "code",
      "metadata": {
        "id": "nNrPNhWaNglw",
        "outputId": "eca19215-94fa-498c-e03a-f5e830e637d9",
        "colab": {
          "resources": {
            "http://localhost:8080/nbextensions/google.colab/files.js": {
              "data": "Ly8gQ29weXJpZ2h0IDIwMTcgR29vZ2xlIExMQwovLwovLyBMaWNlbnNlZCB1bmRlciB0aGUgQXBhY2hlIExpY2Vuc2UsIFZlcnNpb24gMi4wICh0aGUgIkxpY2Vuc2UiKTsKLy8geW91IG1heSBub3QgdXNlIHRoaXMgZmlsZSBleGNlcHQgaW4gY29tcGxpYW5jZSB3aXRoIHRoZSBMaWNlbnNlLgovLyBZb3UgbWF5IG9idGFpbiBhIGNvcHkgb2YgdGhlIExpY2Vuc2UgYXQKLy8KLy8gICAgICBodHRwOi8vd3d3LmFwYWNoZS5vcmcvbGljZW5zZXMvTElDRU5TRS0yLjAKLy8KLy8gVW5sZXNzIHJlcXVpcmVkIGJ5IGFwcGxpY2FibGUgbGF3IG9yIGFncmVlZCB0byBpbiB3cml0aW5nLCBzb2Z0d2FyZQovLyBkaXN0cmlidXRlZCB1bmRlciB0aGUgTGljZW5zZSBpcyBkaXN0cmlidXRlZCBvbiBhbiAiQVMgSVMiIEJBU0lTLAovLyBXSVRIT1VUIFdBUlJBTlRJRVMgT1IgQ09ORElUSU9OUyBPRiBBTlkgS0lORCwgZWl0aGVyIGV4cHJlc3Mgb3IgaW1wbGllZC4KLy8gU2VlIHRoZSBMaWNlbnNlIGZvciB0aGUgc3BlY2lmaWMgbGFuZ3VhZ2UgZ292ZXJuaW5nIHBlcm1pc3Npb25zIGFuZAovLyBsaW1pdGF0aW9ucyB1bmRlciB0aGUgTGljZW5zZS4KCi8qKgogKiBAZmlsZW92ZXJ2aWV3IEhlbHBlcnMgZm9yIGdvb2dsZS5jb2xhYiBQeXRob24gbW9kdWxlLgogKi8KKGZ1bmN0aW9uKHNjb3BlKSB7CmZ1bmN0aW9uIHNwYW4odGV4dCwgc3R5bGVBdHRyaWJ1dGVzID0ge30pIHsKICBjb25zdCBlbGVtZW50ID0gZG9jdW1lbnQuY3JlYXRlRWxlbWVudCgnc3BhbicpOwogIGVsZW1lbnQudGV4dENvbnRlbnQgPSB0ZXh0OwogIGZvciAoY29uc3Qga2V5IG9mIE9iamVjdC5rZXlzKHN0eWxlQXR0cmlidXRlcykpIHsKICAgIGVsZW1lbnQuc3R5bGVba2V5XSA9IHN0eWxlQXR0cmlidXRlc1trZXldOwogIH0KICByZXR1cm4gZWxlbWVudDsKfQoKLy8gTWF4IG51bWJlciBvZiBieXRlcyB3aGljaCB3aWxsIGJlIHVwbG9hZGVkIGF0IGEgdGltZS4KY29uc3QgTUFYX1BBWUxPQURfU0laRSA9IDEwMCAqIDEwMjQ7CgpmdW5jdGlvbiBfdXBsb2FkRmlsZXMoaW5wdXRJZCwgb3V0cHV0SWQpIHsKICBjb25zdCBzdGVwcyA9IHVwbG9hZEZpbGVzU3RlcChpbnB1dElkLCBvdXRwdXRJZCk7CiAgY29uc3Qgb3V0cHV0RWxlbWVudCA9IGRvY3VtZW50LmdldEVsZW1lbnRCeUlkKG91dHB1dElkKTsKICAvLyBDYWNoZSBzdGVwcyBvbiB0aGUgb3V0cHV0RWxlbWVudCB0byBtYWtlIGl0IGF2YWlsYWJsZSBmb3IgdGhlIG5leHQgY2FsbAogIC8vIHRvIHVwbG9hZEZpbGVzQ29udGludWUgZnJvbSBQeXRob24uCiAgb3V0cHV0RWxlbWVudC5zdGVwcyA9IHN0ZXBzOwoKICByZXR1cm4gX3VwbG9hZEZpbGVzQ29udGludWUob3V0cHV0SWQpOwp9CgovLyBUaGlzIGlzIHJvdWdobHkgYW4gYXN5bmMgZ2VuZXJhdG9yIChub3Qgc3VwcG9ydGVkIGluIHRoZSBicm93c2VyIHlldCksCi8vIHdoZXJlIHRoZXJlIGFyZSBtdWx0aXBsZSBhc3luY2hyb25vdXMgc3RlcHMgYW5kIHRoZSBQeXRob24gc2lkZSBpcyBnb2luZwovLyB0byBwb2xsIGZvciBjb21wbGV0aW9uIG9mIGVhY2ggc3RlcC4KLy8gVGhpcyB1c2VzIGEgUHJvbWlzZSB0byBibG9jayB0aGUgcHl0aG9uIHNpZGUgb24gY29tcGxldGlvbiBvZiBlYWNoIHN0ZXAsCi8vIHRoZW4gcGFzc2VzIHRoZSByZXN1bHQgb2YgdGhlIHByZXZpb3VzIHN0ZXAgYXMgdGhlIGlucHV0IHRvIHRoZSBuZXh0IHN0ZXAuCmZ1bmN0aW9uIF91cGxvYWRGaWxlc0NvbnRpbnVlKG91dHB1dElkKSB7CiAgY29uc3Qgb3V0cHV0RWxlbWVudCA9IGRvY3VtZW50LmdldEVsZW1lbnRCeUlkKG91dHB1dElkKTsKICBjb25zdCBzdGVwcyA9IG91dHB1dEVsZW1lbnQuc3RlcHM7CgogIGNvbnN0IG5leHQgPSBzdGVwcy5uZXh0KG91dHB1dEVsZW1lbnQubGFzdFByb21pc2VWYWx1ZSk7CiAgcmV0dXJuIFByb21pc2UucmVzb2x2ZShuZXh0LnZhbHVlLnByb21pc2UpLnRoZW4oKHZhbHVlKSA9PiB7CiAgICAvLyBDYWNoZSB0aGUgbGFzdCBwcm9taXNlIHZhbHVlIHRvIG1ha2UgaXQgYXZhaWxhYmxlIHRvIHRoZSBuZXh0CiAgICAvLyBzdGVwIG9mIHRoZSBnZW5lcmF0b3IuCiAgICBvdXRwdXRFbGVtZW50Lmxhc3RQcm9taXNlVmFsdWUgPSB2YWx1ZTsKICAgIHJldHVybiBuZXh0LnZhbHVlLnJlc3BvbnNlOwogIH0pOwp9CgovKioKICogR2VuZXJhdG9yIGZ1bmN0aW9uIHdoaWNoIGlzIGNhbGxlZCBiZXR3ZWVuIGVhY2ggYXN5bmMgc3RlcCBvZiB0aGUgdXBsb2FkCiAqIHByb2Nlc3MuCiAqIEBwYXJhbSB7c3RyaW5nfSBpbnB1dElkIEVsZW1lbnQgSUQgb2YgdGhlIGlucHV0IGZpbGUgcGlja2VyIGVsZW1lbnQuCiAqIEBwYXJhbSB7c3RyaW5nfSBvdXRwdXRJZCBFbGVtZW50IElEIG9mIHRoZSBvdXRwdXQgZGlzcGxheS4KICogQHJldHVybiB7IUl0ZXJhYmxlPCFPYmplY3Q+fSBJdGVyYWJsZSBvZiBuZXh0IHN0ZXBzLgogKi8KZnVuY3Rpb24qIHVwbG9hZEZpbGVzU3RlcChpbnB1dElkLCBvdXRwdXRJZCkgewogIGNvbnN0IGlucHV0RWxlbWVudCA9IGRvY3VtZW50LmdldEVsZW1lbnRCeUlkKGlucHV0SWQpOwogIGlucHV0RWxlbWVudC5kaXNhYmxlZCA9IGZhbHNlOwoKICBjb25zdCBvdXRwdXRFbGVtZW50ID0gZG9jdW1lbnQuZ2V0RWxlbWVudEJ5SWQob3V0cHV0SWQpOwogIG91dHB1dEVsZW1lbnQuaW5uZXJIVE1MID0gJyc7CgogIGNvbnN0IHBpY2tlZFByb21pc2UgPSBuZXcgUHJvbWlzZSgocmVzb2x2ZSkgPT4gewogICAgaW5wdXRFbGVtZW50LmFkZEV2ZW50TGlzdGVuZXIoJ2NoYW5nZScsIChlKSA9PiB7CiAgICAgIHJlc29sdmUoZS50YXJnZXQuZmlsZXMpOwogICAgfSk7CiAgfSk7CgogIGNvbnN0IGNhbmNlbCA9IGRvY3VtZW50LmNyZWF0ZUVsZW1lbnQoJ2J1dHRvbicpOwogIGlucHV0RWxlbWVudC5wYXJlbnRFbGVtZW50LmFwcGVuZENoaWxkKGNhbmNlbCk7CiAgY2FuY2VsLnRleHRDb250ZW50ID0gJ0NhbmNlbCB1cGxvYWQnOwogIGNvbnN0IGNhbmNlbFByb21pc2UgPSBuZXcgUHJvbWlzZSgocmVzb2x2ZSkgPT4gewogICAgY2FuY2VsLm9uY2xpY2sgPSAoKSA9PiB7CiAgICAgIHJlc29sdmUobnVsbCk7CiAgICB9OwogIH0pOwoKICAvLyBXYWl0IGZvciB0aGUgdXNlciB0byBwaWNrIHRoZSBmaWxlcy4KICBjb25zdCBmaWxlcyA9IHlpZWxkIHsKICAgIHByb21pc2U6IFByb21pc2UucmFjZShbcGlja2VkUHJvbWlzZSwgY2FuY2VsUHJvbWlzZV0pLAogICAgcmVzcG9uc2U6IHsKICAgICAgYWN0aW9uOiAnc3RhcnRpbmcnLAogICAgfQogIH07CgogIGNhbmNlbC5yZW1vdmUoKTsKCiAgLy8gRGlzYWJsZSB0aGUgaW5wdXQgZWxlbWVudCBzaW5jZSBmdXJ0aGVyIHBpY2tzIGFyZSBub3QgYWxsb3dlZC4KICBpbnB1dEVsZW1lbnQuZGlzYWJsZWQgPSB0cnVlOwoKICBpZiAoIWZpbGVzKSB7CiAgICByZXR1cm4gewogICAgICByZXNwb25zZTogewogICAgICAgIGFjdGlvbjogJ2NvbXBsZXRlJywKICAgICAgfQogICAgfTsKICB9CgogIGZvciAoY29uc3QgZmlsZSBvZiBmaWxlcykgewogICAgY29uc3QgbGkgPSBkb2N1bWVudC5jcmVhdGVFbGVtZW50KCdsaScpOwogICAgbGkuYXBwZW5kKHNwYW4oZmlsZS5uYW1lLCB7Zm9udFdlaWdodDogJ2JvbGQnfSkpOwogICAgbGkuYXBwZW5kKHNwYW4oCiAgICAgICAgYCgke2ZpbGUudHlwZSB8fCAnbi9hJ30pIC0gJHtmaWxlLnNpemV9IGJ5dGVzLCBgICsKICAgICAgICBgbGFzdCBtb2RpZmllZDogJHsKICAgICAgICAgICAgZmlsZS5sYXN0TW9kaWZpZWREYXRlID8gZmlsZS5sYXN0TW9kaWZpZWREYXRlLnRvTG9jYWxlRGF0ZVN0cmluZygpIDoKICAgICAgICAgICAgICAgICAgICAgICAgICAgICAgICAgICAgJ24vYSd9IC0gYCkpOwogICAgY29uc3QgcGVyY2VudCA9IHNwYW4oJzAlIGRvbmUnKTsKICAgIGxpLmFwcGVuZENoaWxkKHBlcmNlbnQpOwoKICAgIG91dHB1dEVsZW1lbnQuYXBwZW5kQ2hpbGQobGkpOwoKICAgIGNvbnN0IGZpbGVEYXRhUHJvbWlzZSA9IG5ldyBQcm9taXNlKChyZXNvbHZlKSA9PiB7CiAgICAgIGNvbnN0IHJlYWRlciA9IG5ldyBGaWxlUmVhZGVyKCk7CiAgICAgIHJlYWRlci5vbmxvYWQgPSAoZSkgPT4gewogICAgICAgIHJlc29sdmUoZS50YXJnZXQucmVzdWx0KTsKICAgICAgfTsKICAgICAgcmVhZGVyLnJlYWRBc0FycmF5QnVmZmVyKGZpbGUpOwogICAgfSk7CiAgICAvLyBXYWl0IGZvciB0aGUgZGF0YSB0byBiZSByZWFkeS4KICAgIGxldCBmaWxlRGF0YSA9IHlpZWxkIHsKICAgICAgcHJvbWlzZTogZmlsZURhdGFQcm9taXNlLAogICAgICByZXNwb25zZTogewogICAgICAgIGFjdGlvbjogJ2NvbnRpbnVlJywKICAgICAgfQogICAgfTsKCiAgICAvLyBVc2UgYSBjaHVua2VkIHNlbmRpbmcgdG8gYXZvaWQgbWVzc2FnZSBzaXplIGxpbWl0cy4gU2VlIGIvNjIxMTU2NjAuCiAgICBsZXQgcG9zaXRpb24gPSAwOwogICAgd2hpbGUgKHBvc2l0aW9uIDwgZmlsZURhdGEuYnl0ZUxlbmd0aCkgewogICAgICBjb25zdCBsZW5ndGggPSBNYXRoLm1pbihmaWxlRGF0YS5ieXRlTGVuZ3RoIC0gcG9zaXRpb24sIE1BWF9QQVlMT0FEX1NJWkUpOwogICAgICBjb25zdCBjaHVuayA9IG5ldyBVaW50OEFycmF5KGZpbGVEYXRhLCBwb3NpdGlvbiwgbGVuZ3RoKTsKICAgICAgcG9zaXRpb24gKz0gbGVuZ3RoOwoKICAgICAgY29uc3QgYmFzZTY0ID0gYnRvYShTdHJpbmcuZnJvbUNoYXJDb2RlLmFwcGx5KG51bGwsIGNodW5rKSk7CiAgICAgIHlpZWxkIHsKICAgICAgICByZXNwb25zZTogewogICAgICAgICAgYWN0aW9uOiAnYXBwZW5kJywKICAgICAgICAgIGZpbGU6IGZpbGUubmFtZSwKICAgICAgICAgIGRhdGE6IGJhc2U2NCwKICAgICAgICB9LAogICAgICB9OwogICAgICBwZXJjZW50LnRleHRDb250ZW50ID0KICAgICAgICAgIGAke01hdGgucm91bmQoKHBvc2l0aW9uIC8gZmlsZURhdGEuYnl0ZUxlbmd0aCkgKiAxMDApfSUgZG9uZWA7CiAgICB9CiAgfQoKICAvLyBBbGwgZG9uZS4KICB5aWVsZCB7CiAgICByZXNwb25zZTogewogICAgICBhY3Rpb246ICdjb21wbGV0ZScsCiAgICB9CiAgfTsKfQoKc2NvcGUuZ29vZ2xlID0gc2NvcGUuZ29vZ2xlIHx8IHt9OwpzY29wZS5nb29nbGUuY29sYWIgPSBzY29wZS5nb29nbGUuY29sYWIgfHwge307CnNjb3BlLmdvb2dsZS5jb2xhYi5fZmlsZXMgPSB7CiAgX3VwbG9hZEZpbGVzLAogIF91cGxvYWRGaWxlc0NvbnRpbnVlLAp9Owp9KShzZWxmKTsK",
              "ok": true,
              "headers": [
                [
                  "content-type",
                  "application/javascript"
                ]
              ],
              "status": 200,
              "status_text": "OK"
            }
          },
          "base_uri": "https://localhost:8080/",
          "height": 76
        }
      },
      "source": [
        "# upload file\n",
        "from google.colab import files \n",
        "uploaded = files.upload()"
      ],
      "execution_count": null,
      "outputs": [
        {
          "output_type": "display_data",
          "data": {
            "text/html": [
              "\n",
              "     <input type=\"file\" id=\"files-21628cd2-ec56-41f1-a3d0-a33f510d9e03\" name=\"files[]\" multiple disabled\n",
              "        style=\"border:none\" />\n",
              "     <output id=\"result-21628cd2-ec56-41f1-a3d0-a33f510d9e03\">\n",
              "      Upload widget is only available when the cell has been executed in the\n",
              "      current browser session. Please rerun this cell to enable.\n",
              "      </output>\n",
              "      <script src=\"/nbextensions/google.colab/files.js\"></script> "
            ],
            "text/plain": [
              "<IPython.core.display.HTML object>"
            ]
          },
          "metadata": {
            "tags": []
          }
        },
        {
          "output_type": "stream",
          "text": [
            "Saving Run01.csv to Run01.csv\n"
          ],
          "name": "stdout"
        }
      ]
    },
    {
      "cell_type": "code",
      "metadata": {
        "id": "EyvREb9rODza",
        "outputId": "f04c8e5d-8140-492d-a7b0-8de4d0737a1d",
        "colab": {
          "base_uri": "https://localhost:8080/",
          "height": 280
        }
      },
      "source": [
        "# read in file\n",
        "import pandas as pd \n",
        "import io \n",
        "df = pd.read_csv(io.BytesIO(uploaded['Run01.csv'])) \n",
        "print(df)"
      ],
      "execution_count": null,
      "outputs": [
        {
          "output_type": "stream",
          "text": [
            "       Time (s)  Pressure (bar)  ...  Caliper Temperature (degC)  Torque (Nm)\n",
            "0          0.00            0.01  ...                       45.96          0.0\n",
            "1          0.05            0.01  ...                       45.96          0.0\n",
            "2          0.10            0.01  ...                       45.96          0.0\n",
            "3          0.15            0.01  ...                       45.96          0.0\n",
            "4          0.20            0.01  ...                       45.96          0.0\n",
            "...         ...             ...  ...                         ...          ...\n",
            "9997     499.85            0.01  ...                       50.45          0.0\n",
            "9998     499.90            0.01  ...                       50.45          0.0\n",
            "9999     499.95            0.01  ...                       50.45          0.0\n",
            "10000    500.00            0.01  ...                       50.45          0.0\n",
            "10001    500.05            0.01  ...                       50.45          0.0\n",
            "\n",
            "[10002 rows x 8 columns]\n"
          ],
          "name": "stdout"
        }
      ]
    },
    {
      "cell_type": "code",
      "metadata": {
        "id": "kgqVU-F0OHfj"
      },
      "source": [
        "time = df['Time (s)'].to_numpy()\n",
        "series = df['Torque (Nm)'].to_numpy()"
      ],
      "execution_count": null,
      "outputs": []
    },
    {
      "cell_type": "code",
      "metadata": {
        "id": "Zswl7jRtGzkk"
      },
      "source": [
        "def plot_series(time, series, format=\"-\", start=0, end=None):\n",
        "    plt.plot(time[start:end], series[start:end], format)\n",
        "    plt.xlabel(\"Time\")\n",
        "    plt.ylabel(\"Value\")\n",
        "    plt.grid(True)\n",
        "\n",
        "# split time identified through visual inspection of the torque signal\n",
        "split_time = 4500\n",
        "end_time = 7000\n",
        "time_train = time[:split_time]\n",
        "x_train = series[:split_time]\n",
        "time_valid = time[split_time:end_time]\n",
        "x_valid = series[split_time:end_time]\n",
        "\n",
        "window_size = 20\n",
        "batch_size = 32\n",
        "shuffle_buffer_size = 1000"
      ],
      "execution_count": null,
      "outputs": []
    },
    {
      "cell_type": "code",
      "metadata": {
        "id": "jZO28baUZOEX",
        "outputId": "e396c324-ddb6-451a-bb27-9e1dda53b47c",
        "colab": {
          "base_uri": "https://localhost:8080/",
          "height": 36
        }
      },
      "source": [
        "x_train.shape"
      ],
      "execution_count": null,
      "outputs": [
        {
          "output_type": "execute_result",
          "data": {
            "text/plain": [
              "(4500,)"
            ]
          },
          "metadata": {
            "tags": []
          },
          "execution_count": 17
        }
      ]
    },
    {
      "cell_type": "code",
      "metadata": {
        "id": "4sTTIOCbyShY"
      },
      "source": [
        "def windowed_dataset(series, window_size, batch_size, shuffle_buffer):\n",
        "  dataset = tf.data.Dataset.from_tensor_slices(series)\n",
        "  dataset = dataset.window(window_size + 1, shift=1, drop_remainder=True)\n",
        "  dataset = dataset.flat_map(lambda window: window.batch(window_size + 1))\n",
        "  dataset = dataset.shuffle(shuffle_buffer).map(lambda window: (window[:-1], window[-1]))\n",
        "  dataset = dataset.batch(batch_size).prefetch(1)\n",
        "  return dataset"
      ],
      "execution_count": null,
      "outputs": []
    },
    {
      "cell_type": "code",
      "metadata": {
        "id": "ou-WmE2AXu6B",
        "outputId": "41cfd385-a8d4-4beb-f02c-3af4c2c22439",
        "colab": {
          "base_uri": "https://localhost:8080/",
          "height": 231
        }
      },
      "source": [
        "dataset = windowed_dataset(x_train, window_size, batch_size, shuffle_buffer_size)\n",
        "print(dataset)"
      ],
      "execution_count": null,
      "outputs": [
        {
          "output_type": "stream",
          "text": [
            "<PrefetchDataset shapes: ((None, None), (None,)), types: (tf.float64, tf.float64)>\n"
          ],
          "name": "stdout"
        },
        {
          "output_type": "error",
          "ename": "AttributeError",
          "evalue": "ignored",
          "traceback": [
            "\u001b[0;31m---------------------------------------------------------------------------\u001b[0m",
            "\u001b[0;31mAttributeError\u001b[0m                            Traceback (most recent call last)",
            "\u001b[0;32m<ipython-input-36-5d0043d8fcde>\u001b[0m in \u001b[0;36m<module>\u001b[0;34m()\u001b[0m\n\u001b[1;32m      1\u001b[0m \u001b[0mdataset\u001b[0m \u001b[0;34m=\u001b[0m \u001b[0mwindowed_dataset\u001b[0m\u001b[0;34m(\u001b[0m\u001b[0mx_train\u001b[0m\u001b[0;34m,\u001b[0m \u001b[0mwindow_size\u001b[0m\u001b[0;34m,\u001b[0m \u001b[0mbatch_size\u001b[0m\u001b[0;34m,\u001b[0m \u001b[0mshuffle_buffer_size\u001b[0m\u001b[0;34m)\u001b[0m\u001b[0;34m\u001b[0m\u001b[0;34m\u001b[0m\u001b[0m\n\u001b[1;32m      2\u001b[0m \u001b[0mprint\u001b[0m\u001b[0;34m(\u001b[0m\u001b[0mdataset\u001b[0m\u001b[0;34m)\u001b[0m\u001b[0;34m\u001b[0m\u001b[0;34m\u001b[0m\u001b[0m\n\u001b[0;32m----> 3\u001b[0;31m \u001b[0mdataset\u001b[0m\u001b[0;34m.\u001b[0m\u001b[0mshape\u001b[0m\u001b[0;34m\u001b[0m\u001b[0;34m\u001b[0m\u001b[0m\n\u001b[0m",
            "\u001b[0;31mAttributeError\u001b[0m: 'PrefetchDataset' object has no attribute 'shape'"
          ]
        }
      ]
    },
    {
      "cell_type": "code",
      "metadata": {
        "id": "9T2cMagpVtpu",
        "outputId": "dfe4688b-48dc-4404-ebdb-21fe40234084",
        "colab": {
          "base_uri": "https://localhost:8080/",
          "height": 1000
        }
      },
      "source": [
        "l1 = tf.keras.layers.LSTM(256, input_shape = [window_size]\n",
        "l2 = tf.keras.layers.Dense(256) #, input_shape=[window_size])\n",
        "l3 = tf.keras.layers.Dropout(0.2)\n",
        "lo = tf.keras.layers.Dense(1) #, input_shape=[window_size])\n",
        "model = tf.keras.models.Sequential([l1, l2, l3, lo])\n",
        "\n",
        "model.compile(loss=\"mse\", optimizer=tf.keras.optimizers.SGD(lr=1e-7, momentum=0.9))\n",
        "model.fit(dataset,epochs=100,verbose=1)\n",
        "\n",
        "#print(\"Layer weights {}\".format(l0.get_weights()))"
      ],
      "execution_count": null,
      "outputs": [
        {
          "output_type": "stream",
          "text": [
            "Epoch 1/100\n",
            "140/140 [==============================] - 1s 4ms/step - loss: 6262.5186\n",
            "Epoch 2/100\n",
            "140/140 [==============================] - 1s 4ms/step - loss: 2339.9031\n",
            "Epoch 3/100\n",
            "140/140 [==============================] - 1s 4ms/step - loss: 1987.5270\n",
            "Epoch 4/100\n",
            "140/140 [==============================] - 1s 4ms/step - loss: 1675.6869\n",
            "Epoch 5/100\n",
            "140/140 [==============================] - 1s 4ms/step - loss: 1298.5200\n",
            "Epoch 6/100\n",
            "140/140 [==============================] - 1s 4ms/step - loss: 1463.6439\n",
            "Epoch 7/100\n",
            "140/140 [==============================] - 1s 4ms/step - loss: 1342.5176\n",
            "Epoch 8/100\n",
            "140/140 [==============================] - 1s 4ms/step - loss: 1143.5637\n",
            "Epoch 9/100\n",
            "140/140 [==============================] - 1s 4ms/step - loss: 1154.3367\n",
            "Epoch 10/100\n",
            "140/140 [==============================] - 1s 4ms/step - loss: 1184.1777\n",
            "Epoch 11/100\n",
            "140/140 [==============================] - 1s 4ms/step - loss: 1130.0479\n",
            "Epoch 12/100\n",
            "140/140 [==============================] - 1s 4ms/step - loss: 1170.4575\n",
            "Epoch 13/100\n",
            "140/140 [==============================] - 1s 5ms/step - loss: 1019.0641\n",
            "Epoch 14/100\n",
            "140/140 [==============================] - 1s 4ms/step - loss: 1088.4070\n",
            "Epoch 15/100\n",
            "140/140 [==============================] - 1s 4ms/step - loss: 1099.7797\n",
            "Epoch 16/100\n",
            "140/140 [==============================] - 1s 4ms/step - loss: 1124.1249\n",
            "Epoch 17/100\n",
            "140/140 [==============================] - 1s 4ms/step - loss: 1115.4495\n",
            "Epoch 18/100\n",
            "140/140 [==============================] - 1s 4ms/step - loss: 1044.7733\n",
            "Epoch 19/100\n",
            "140/140 [==============================] - 1s 4ms/step - loss: 1056.1674\n",
            "Epoch 20/100\n",
            "140/140 [==============================] - 1s 4ms/step - loss: 1139.2239\n",
            "Epoch 21/100\n",
            "140/140 [==============================] - 1s 4ms/step - loss: 1026.8652\n",
            "Epoch 22/100\n",
            "140/140 [==============================] - 1s 4ms/step - loss: 1012.4368\n",
            "Epoch 23/100\n",
            "140/140 [==============================] - 1s 4ms/step - loss: 1068.6361\n",
            "Epoch 24/100\n",
            "140/140 [==============================] - 1s 5ms/step - loss: 1032.7517\n",
            "Epoch 25/100\n",
            "140/140 [==============================] - 1s 4ms/step - loss: 1064.6061\n",
            "Epoch 26/100\n",
            "140/140 [==============================] - 1s 4ms/step - loss: 1121.7150\n",
            "Epoch 27/100\n",
            "140/140 [==============================] - 1s 4ms/step - loss: 957.7850\n",
            "Epoch 28/100\n",
            "140/140 [==============================] - 1s 5ms/step - loss: 1030.3087\n",
            "Epoch 29/100\n",
            "140/140 [==============================] - 1s 4ms/step - loss: 981.2133\n",
            "Epoch 30/100\n",
            "140/140 [==============================] - 1s 4ms/step - loss: 1008.3611\n",
            "Epoch 31/100\n",
            "140/140 [==============================] - 1s 4ms/step - loss: 952.9242\n",
            "Epoch 32/100\n",
            "140/140 [==============================] - 0s 4ms/step - loss: 960.5636\n",
            "Epoch 33/100\n",
            "140/140 [==============================] - 1s 4ms/step - loss: 999.6891\n",
            "Epoch 34/100\n",
            "140/140 [==============================] - 1s 4ms/step - loss: 968.8165\n",
            "Epoch 35/100\n",
            "140/140 [==============================] - 1s 4ms/step - loss: 885.6091\n",
            "Epoch 36/100\n",
            "140/140 [==============================] - 1s 4ms/step - loss: 968.7737\n",
            "Epoch 37/100\n",
            "140/140 [==============================] - 1s 4ms/step - loss: 984.8870\n",
            "Epoch 38/100\n",
            "140/140 [==============================] - 1s 5ms/step - loss: 939.0016\n",
            "Epoch 39/100\n",
            "140/140 [==============================] - 1s 4ms/step - loss: 934.6707\n",
            "Epoch 40/100\n",
            "140/140 [==============================] - 1s 5ms/step - loss: 888.2274\n",
            "Epoch 41/100\n",
            "140/140 [==============================] - 1s 4ms/step - loss: 999.3323\n",
            "Epoch 42/100\n",
            "140/140 [==============================] - 1s 4ms/step - loss: 943.9435\n",
            "Epoch 43/100\n",
            "140/140 [==============================] - 1s 4ms/step - loss: 938.0085\n",
            "Epoch 44/100\n",
            "140/140 [==============================] - 1s 4ms/step - loss: 953.8582\n",
            "Epoch 45/100\n",
            "140/140 [==============================] - 1s 5ms/step - loss: 946.9905\n",
            "Epoch 46/100\n",
            "140/140 [==============================] - 1s 5ms/step - loss: 913.5556\n",
            "Epoch 47/100\n",
            "140/140 [==============================] - 1s 5ms/step - loss: 935.7823\n",
            "Epoch 48/100\n",
            "140/140 [==============================] - 1s 5ms/step - loss: 959.9210\n",
            "Epoch 49/100\n",
            "140/140 [==============================] - 1s 5ms/step - loss: 904.4415\n",
            "Epoch 50/100\n",
            "140/140 [==============================] - 1s 5ms/step - loss: 1072.3190\n",
            "Epoch 51/100\n",
            "140/140 [==============================] - 1s 5ms/step - loss: 931.4385\n",
            "Epoch 52/100\n",
            "140/140 [==============================] - 1s 6ms/step - loss: 941.1132\n",
            "Epoch 53/100\n",
            "140/140 [==============================] - 1s 6ms/step - loss: 925.3307\n",
            "Epoch 54/100\n",
            "140/140 [==============================] - 1s 4ms/step - loss: 898.2329\n",
            "Epoch 55/100\n",
            "140/140 [==============================] - 1s 4ms/step - loss: 870.5480\n",
            "Epoch 56/100\n",
            "140/140 [==============================] - 1s 4ms/step - loss: 899.9989\n",
            "Epoch 57/100\n",
            "140/140 [==============================] - 1s 4ms/step - loss: 929.2729\n",
            "Epoch 58/100\n",
            "140/140 [==============================] - 1s 4ms/step - loss: 965.8594\n",
            "Epoch 59/100\n",
            "140/140 [==============================] - 1s 4ms/step - loss: 908.4716\n",
            "Epoch 60/100\n",
            "140/140 [==============================] - 1s 4ms/step - loss: 935.2286\n",
            "Epoch 61/100\n",
            "140/140 [==============================] - 1s 4ms/step - loss: 962.8312\n",
            "Epoch 62/100\n",
            "140/140 [==============================] - 1s 4ms/step - loss: 977.5616\n",
            "Epoch 63/100\n",
            "140/140 [==============================] - 1s 4ms/step - loss: 892.1292\n",
            "Epoch 64/100\n",
            "140/140 [==============================] - 1s 5ms/step - loss: 946.8902\n",
            "Epoch 65/100\n",
            "140/140 [==============================] - 1s 4ms/step - loss: 928.7312\n",
            "Epoch 66/100\n",
            "140/140 [==============================] - 1s 4ms/step - loss: 914.7096\n",
            "Epoch 67/100\n",
            "140/140 [==============================] - 1s 4ms/step - loss: 937.0839\n",
            "Epoch 68/100\n",
            "140/140 [==============================] - 1s 5ms/step - loss: 869.3562\n",
            "Epoch 69/100\n",
            "140/140 [==============================] - 1s 6ms/step - loss: 967.3421\n",
            "Epoch 70/100\n",
            "140/140 [==============================] - 1s 4ms/step - loss: 881.4860\n",
            "Epoch 71/100\n",
            "140/140 [==============================] - 1s 4ms/step - loss: 933.4603\n",
            "Epoch 72/100\n",
            "140/140 [==============================] - 1s 4ms/step - loss: 880.7903\n",
            "Epoch 73/100\n",
            "140/140 [==============================] - 1s 5ms/step - loss: 933.9280\n",
            "Epoch 74/100\n",
            "140/140 [==============================] - 1s 5ms/step - loss: 857.2400\n",
            "Epoch 75/100\n",
            "140/140 [==============================] - 1s 4ms/step - loss: 874.6850\n",
            "Epoch 76/100\n",
            "140/140 [==============================] - 1s 5ms/step - loss: 955.3826\n",
            "Epoch 77/100\n",
            "140/140 [==============================] - 1s 4ms/step - loss: 898.4756\n",
            "Epoch 78/100\n",
            "140/140 [==============================] - 1s 4ms/step - loss: 918.8467\n",
            "Epoch 79/100\n",
            "140/140 [==============================] - 1s 5ms/step - loss: 925.5868\n",
            "Epoch 80/100\n",
            "140/140 [==============================] - 1s 4ms/step - loss: 941.4665\n",
            "Epoch 81/100\n",
            "140/140 [==============================] - 1s 4ms/step - loss: 882.2762\n",
            "Epoch 82/100\n",
            "140/140 [==============================] - 1s 4ms/step - loss: 869.1385\n",
            "Epoch 83/100\n",
            "140/140 [==============================] - 1s 4ms/step - loss: 905.7136\n",
            "Epoch 84/100\n",
            "140/140 [==============================] - 1s 4ms/step - loss: 976.4026\n",
            "Epoch 85/100\n",
            "140/140 [==============================] - 1s 5ms/step - loss: 853.5649\n",
            "Epoch 86/100\n",
            "140/140 [==============================] - 1s 4ms/step - loss: 883.6366\n",
            "Epoch 87/100\n",
            "140/140 [==============================] - 1s 4ms/step - loss: 905.6783\n",
            "Epoch 88/100\n",
            "140/140 [==============================] - 1s 4ms/step - loss: 871.4918\n",
            "Epoch 89/100\n",
            "140/140 [==============================] - 1s 4ms/step - loss: 914.3141\n",
            "Epoch 90/100\n",
            "140/140 [==============================] - 1s 4ms/step - loss: 887.1517\n",
            "Epoch 91/100\n",
            "140/140 [==============================] - 1s 4ms/step - loss: 948.5031\n",
            "Epoch 92/100\n",
            "140/140 [==============================] - 1s 4ms/step - loss: 841.1479\n",
            "Epoch 93/100\n",
            "140/140 [==============================] - 1s 5ms/step - loss: 919.1013\n",
            "Epoch 94/100\n",
            "140/140 [==============================] - 1s 4ms/step - loss: 898.9020\n",
            "Epoch 95/100\n",
            "140/140 [==============================] - 1s 5ms/step - loss: 919.4789\n",
            "Epoch 96/100\n",
            "140/140 [==============================] - 1s 4ms/step - loss: 909.6113\n",
            "Epoch 97/100\n",
            "140/140 [==============================] - 1s 4ms/step - loss: 883.5099\n",
            "Epoch 98/100\n",
            "140/140 [==============================] - 1s 4ms/step - loss: 873.5602\n",
            "Epoch 99/100\n",
            "140/140 [==============================] - 1s 4ms/step - loss: 858.6525\n",
            "Epoch 100/100\n",
            "140/140 [==============================] - 1s 4ms/step - loss: 872.6476\n",
            "Layer weights [array([[-0.06612369],\n",
            "       [ 0.02871333],\n",
            "       [ 0.04349703],\n",
            "       [ 0.00958766],\n",
            "       [-0.00856086],\n",
            "       [ 0.03216166],\n",
            "       [-0.04446974],\n",
            "       [-0.03560374],\n",
            "       [-0.04015696],\n",
            "       [ 0.05649441],\n",
            "       [ 0.02688189],\n",
            "       [ 0.01987195],\n",
            "       [-0.01361507],\n",
            "       [-0.03353483],\n",
            "       [ 0.04614656],\n",
            "       [-0.01090582],\n",
            "       [ 0.04934712],\n",
            "       [ 0.04379796],\n",
            "       [ 0.07564852],\n",
            "       [-0.02949246],\n",
            "       [ 0.02270562],\n",
            "       [-0.04497338],\n",
            "       [ 0.11024543],\n",
            "       [-0.00592216],\n",
            "       [-0.0278316 ],\n",
            "       [ 0.02561339],\n",
            "       [-0.00839381],\n",
            "       [-0.01359987],\n",
            "       [ 0.05406725],\n",
            "       [ 0.04431443],\n",
            "       [ 0.05760929],\n",
            "       [ 0.00363655],\n",
            "       [-0.02106951],\n",
            "       [ 0.0370337 ],\n",
            "       [-0.02242226],\n",
            "       [ 0.0929689 ],\n",
            "       [ 0.01776632],\n",
            "       [ 0.03876805],\n",
            "       [ 0.0373297 ],\n",
            "       [-0.01770355],\n",
            "       [ 0.00985018],\n",
            "       [-0.04713763],\n",
            "       [-0.04300561],\n",
            "       [-0.04653923],\n",
            "       [ 0.04235209],\n",
            "       [-0.04435657],\n",
            "       [-0.07279455],\n",
            "       [-0.08283364],\n",
            "       [ 0.03337182],\n",
            "       [ 0.03041523],\n",
            "       [ 0.05925003],\n",
            "       [-0.00410183],\n",
            "       [ 0.00642076],\n",
            "       [-0.03165045],\n",
            "       [ 0.03273576],\n",
            "       [-0.00956147],\n",
            "       [ 0.01830072],\n",
            "       [-0.00826246],\n",
            "       [-0.00975427],\n",
            "       [-0.0659637 ],\n",
            "       [ 0.0190351 ],\n",
            "       [ 0.03062609],\n",
            "       [-0.08107515],\n",
            "       [ 0.01183713],\n",
            "       [-0.04786796],\n",
            "       [-0.048906  ],\n",
            "       [ 0.01345254],\n",
            "       [ 0.05742786],\n",
            "       [-0.06451881],\n",
            "       [ 0.02236231],\n",
            "       [-0.0695609 ],\n",
            "       [-0.01938165],\n",
            "       [ 0.05838421],\n",
            "       [-0.03390883],\n",
            "       [-0.06094283],\n",
            "       [ 0.06904756],\n",
            "       [-0.03904129],\n",
            "       [ 0.02519925],\n",
            "       [ 0.00751197],\n",
            "       [-0.01914857],\n",
            "       [-0.05738376],\n",
            "       [-0.04732236],\n",
            "       [ 0.0032432 ],\n",
            "       [ 0.01112009],\n",
            "       [ 0.00314204],\n",
            "       [ 0.01824329],\n",
            "       [ 0.02813033],\n",
            "       [ 0.02239946],\n",
            "       [ 0.01694   ],\n",
            "       [ 0.02630468],\n",
            "       [ 0.003423  ],\n",
            "       [-0.04716054],\n",
            "       [-0.00036972],\n",
            "       [ 0.02719061],\n",
            "       [-0.0263338 ],\n",
            "       [-0.01547526],\n",
            "       [-0.0225406 ],\n",
            "       [-0.07708053],\n",
            "       [-0.00995235],\n",
            "       [ 0.02254501],\n",
            "       [-0.05841208],\n",
            "       [ 0.01881258],\n",
            "       [ 0.01218799],\n",
            "       [ 0.03722494],\n",
            "       [ 0.06413386],\n",
            "       [ 0.08125991],\n",
            "       [ 0.08058564],\n",
            "       [-0.06313209],\n",
            "       [-0.07638261],\n",
            "       [-0.03359191],\n",
            "       [-0.02689074],\n",
            "       [-0.03929737],\n",
            "       [ 0.0287293 ],\n",
            "       [-0.05528944],\n",
            "       [-0.02889304],\n",
            "       [-0.06140793],\n",
            "       [ 0.05783066],\n",
            "       [ 0.03649136],\n",
            "       [ 0.00092562],\n",
            "       [ 0.01958537],\n",
            "       [-0.01845775],\n",
            "       [-0.05520719],\n",
            "       [-0.0428787 ],\n",
            "       [-0.00021021],\n",
            "       [ 0.05153599],\n",
            "       [-0.04627468],\n",
            "       [ 0.08207781],\n",
            "       [-0.03149569],\n",
            "       [-0.03578428],\n",
            "       [ 0.00335702],\n",
            "       [-0.09038763],\n",
            "       [ 0.00237234],\n",
            "       [-0.09966083],\n",
            "       [ 0.01712603],\n",
            "       [ 0.01430901],\n",
            "       [-0.03820353],\n",
            "       [ 0.03843486],\n",
            "       [ 0.02470328],\n",
            "       [ 0.03561657],\n",
            "       [-0.0026248 ],\n",
            "       [-0.01822968],\n",
            "       [-0.04201957],\n",
            "       [-0.01248132],\n",
            "       [ 0.00853897],\n",
            "       [ 0.01424693],\n",
            "       [-0.03286576],\n",
            "       [ 0.07043908],\n",
            "       [ 0.09189705],\n",
            "       [ 0.00423086],\n",
            "       [-0.02778663],\n",
            "       [ 0.04598712],\n",
            "       [ 0.07047836],\n",
            "       [-0.02596435],\n",
            "       [-0.03380347],\n",
            "       [-0.04500619],\n",
            "       [ 0.04334297],\n",
            "       [-0.03956595],\n",
            "       [-0.00187234],\n",
            "       [-0.01825943],\n",
            "       [ 0.02384945],\n",
            "       [ 0.06129126],\n",
            "       [-0.00386405],\n",
            "       [ 0.00107769],\n",
            "       [-0.00168706],\n",
            "       [ 0.01977783],\n",
            "       [ 0.01703906],\n",
            "       [-0.04075456],\n",
            "       [-0.04906233],\n",
            "       [ 0.01428494],\n",
            "       [ 0.0448401 ],\n",
            "       [-0.01537578],\n",
            "       [-0.01856087],\n",
            "       [ 0.09139184],\n",
            "       [-0.06732038],\n",
            "       [ 0.03157303],\n",
            "       [ 0.06273922],\n",
            "       [ 0.02325965],\n",
            "       [ 0.03288717],\n",
            "       [-0.00956507],\n",
            "       [ 0.01604239],\n",
            "       [ 0.0236785 ],\n",
            "       [ 0.02890974],\n",
            "       [-0.04320002],\n",
            "       [ 0.02972361],\n",
            "       [ 0.03561983],\n",
            "       [ 0.01828394],\n",
            "       [ 0.01419709],\n",
            "       [ 0.01981546],\n",
            "       [-0.03942696],\n",
            "       [ 0.01463378],\n",
            "       [-0.01469029],\n",
            "       [-0.05485027],\n",
            "       [ 0.09727323],\n",
            "       [ 0.01217989],\n",
            "       [-0.00405257],\n",
            "       [-0.07552835],\n",
            "       [ 0.01582438],\n",
            "       [ 0.08366092],\n",
            "       [ 0.07547051],\n",
            "       [ 0.0122807 ],\n",
            "       [ 0.04255271],\n",
            "       [ 0.01929588],\n",
            "       [-0.02518989],\n",
            "       [ 0.0168813 ],\n",
            "       [-0.08792236],\n",
            "       [ 0.06192734],\n",
            "       [ 0.05216088],\n",
            "       [ 0.00769044],\n",
            "       [-0.07769755],\n",
            "       [-0.04283381],\n",
            "       [ 0.06101945],\n",
            "       [-0.04421046],\n",
            "       [ 0.09123845],\n",
            "       [ 0.06808069],\n",
            "       [ 0.01042785],\n",
            "       [ 0.11019198],\n",
            "       [-0.0809636 ],\n",
            "       [ 0.02532994],\n",
            "       [-0.01896192],\n",
            "       [ 0.06535505],\n",
            "       [ 0.00132831],\n",
            "       [ 0.02190168],\n",
            "       [ 0.02655804],\n",
            "       [ 0.05942385],\n",
            "       [ 0.03929907],\n",
            "       [ 0.02540496],\n",
            "       [ 0.03078034],\n",
            "       [-0.01064074],\n",
            "       [ 0.00706644],\n",
            "       [-0.05096464],\n",
            "       [-0.01035805],\n",
            "       [ 0.06586404],\n",
            "       [ 0.08766796],\n",
            "       [-0.04801422],\n",
            "       [-0.01960109],\n",
            "       [-0.02739264],\n",
            "       [ 0.0486946 ],\n",
            "       [ 0.00455197],\n",
            "       [ 0.01302933],\n",
            "       [-0.00977253],\n",
            "       [ 0.01928783],\n",
            "       [ 0.04082225],\n",
            "       [-0.00627249],\n",
            "       [ 0.00336601],\n",
            "       [-0.04136436],\n",
            "       [ 0.02556407],\n",
            "       [-0.0110483 ],\n",
            "       [-0.03345974],\n",
            "       [ 0.09319295],\n",
            "       [-0.0521419 ],\n",
            "       [-0.05078181],\n",
            "       [-0.04871473],\n",
            "       [-0.00478939],\n",
            "       [-0.0559781 ],\n",
            "       [-0.07709252],\n",
            "       [-0.01187989]], dtype=float32), array([0.02964979], dtype=float32)]\n"
          ],
          "name": "stdout"
        }
      ]
    },
    {
      "cell_type": "code",
      "metadata": {
        "id": "-gtVJuLVxR-M"
      },
      "source": [
        "forecast = []\n",
        "\n",
        "for time in range(len(series) - window_size):\n",
        "  forecast.append(model.predict(series[time:time + window_size][np.newaxis]))\n",
        "\n",
        "forecast = forecast[split_time-window_size:]\n",
        "results = np.array(forecast)[:, 0, 0]"
      ],
      "execution_count": null,
      "outputs": []
    },
    {
      "cell_type": "code",
      "metadata": {
        "id": "8fKcPoDURL55",
        "outputId": "7532a88f-12b6-463c-ec8c-48adc98d32bb",
        "colab": {
          "base_uri": "https://localhost:8080/",
          "height": 388
        }
      },
      "source": [
        "plt.figure(figsize=(10, 6))\n",
        "ax = plt.subplot(111)\n",
        "ax.plot(time_valid, x_valid, label='actual')\n",
        "ax.plot(time_valid, results[0:2500], label='prediction')\n",
        "plt.xlabel('Time (s)')\n",
        "plt.ylabel('Torque (Nm)')\n",
        "ax.legend()\n",
        "plt.show()\n"
      ],
      "execution_count": null,
      "outputs": [
        {
          "output_type": "display_data",
          "data": {
            "image/png": "[encoded data removed]",
            "text/plain": [
              "<Figure size 720x432 with 1 Axes>"
            ]
          },
          "metadata": {
            "tags": [],
            "needs_background": "light"
          }
        }
      ]
    },
    {
      "cell_type": "code",
      "metadata": {
        "id": "hR2BO0Dai_ZT",
        "outputId": "dcb9d588-b53d-489c-fecc-a4c97b39c2a8",
        "colab": {
          "base_uri": "https://localhost:8080/",
          "height": 36
        }
      },
      "source": [
        "tf.keras.metrics.mean_absolute_error(x_valid, results[0:2500]).numpy()"
      ],
      "execution_count": null,
      "outputs": [
        {
          "output_type": "execute_result",
          "data": {
            "text/plain": [
              "2.3166027"
            ]
          },
          "metadata": {
            "tags": []
          },
          "execution_count": 61
        }
      ]
    },
    {
      "cell_type": "code",
      "metadata": {
        "id": "v-hka1d3fuuv",
        "outputId": "d0791847-f61f-44de-93cf-a7b404343a28",
        "colab": {
          "base_uri": "https://localhost:8080/",
          "height": 36
        }
      },
      "source": [
        "tf.keras.metrics.mean_squared_error(x_valid, results[0:2500]).numpy()"
      ],
      "execution_count": null,
      "outputs": [
        {
          "output_type": "execute_result",
          "data": {
            "text/plain": [
              "461.37634"
            ]
          },
          "metadata": {
            "tags": []
          },
          "execution_count": 62
        }
      ]
    }
  ]
}